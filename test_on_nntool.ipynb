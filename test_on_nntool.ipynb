{
 "cells": [
  {
   "cell_type": "code",
   "execution_count": 9,
   "metadata": {},
   "outputs": [],
   "source": [
    "import glob\n",
    "from PIL import Image\n",
    "import numpy as np\n",
    "from nntool.api import NNGraph"
   ]
  },
  {
   "cell_type": "code",
   "execution_count": 10,
   "metadata": {},
   "outputs": [
    {
     "name": "stderr",
     "output_type": "stream",
     "text": [
      "indicating change of FULLY_CONNECTED_0_11 input from c, out_cin_c, out_c to chw, out_cin_chw, out_c order - rerun adjust command\n",
      "indicating change of FULLY_CONNECTED_0_11 output from c to chw order - rerun adjust command\n",
      "indicating change of FULLY_CONNECTED_0_12 input from c, out_cin_c, out_c to chw, out_cin_chw, out_c order - rerun adjust command\n",
      "indicating change of FULLY_CONNECTED_0_12 output from c to chw order - rerun adjust command\n"
     ]
    }
   ],
   "source": [
    "quant_model_path = \"model/cifar10_model_uint8.tflite\"\n",
    "\n",
    "G = NNGraph.load_graph(quant_model_path, load_quantization=True)\n",
    "\n",
    "G.quantize(\n",
    "    statistics=None,\n",
    "    graph_options={\n",
    "        \"ne16\": False,\n",
    "        \"hwc\": False,\n",
    "    }\n",
    ")\n",
    "G.adjust_order()\n",
    "G.add_dimensions()\n",
    "G.fusions('scaled_match_group')"
   ]
  },
  {
   "cell_type": "code",
   "execution_count": 11,
   "metadata": {},
   "outputs": [
    {
     "name": "stdout",
     "output_type": "stream",
     "text": [
      "samples/cifar_test_13_7.ppm\n",
      "Predicted Class: 7 with confidence: 0.994598388671875\n",
      "samples/cifar_test_16_5.ppm\n",
      "Predicted Class: 5 with confidence: 0.89288330078125\n",
      "samples/cifar_test_1_8.ppm\n",
      "Predicted Class: 8 with confidence: 0.9962158203125\n",
      "samples/cifar_test_20_7.ppm\n",
      "Predicted Class: 7 with confidence: 0.86663818359375\n",
      "samples/cifar_test_3_0.ppm\n",
      "Predicted Class: 8 with confidence: 0.672271728515625\n",
      "samples/cifar_test_24_5.ppm\n",
      "Predicted Class: 4 with confidence: 0.896820068359375\n",
      "samples/cifar_test_12_5.ppm\n",
      "Predicted Class: 5 with confidence: 0.545867919921875\n",
      "samples/cifar_test_8_3.ppm\n",
      "Predicted Class: 3 with confidence: 0.935821533203125\n",
      "samples/cifar_test_0_3.ppm\n",
      "Predicted Class: 3 with confidence: 0.914398193359375\n",
      "samples/cifar_test_17_7.ppm\n"
     ]
    },
    {
     "ename": "KeyboardInterrupt",
     "evalue": "",
     "output_type": "error",
     "traceback": [
      "\u001b[0;31m---------------------------------------------------------------------------\u001b[0m",
      "\u001b[0;31mKeyboardInterrupt\u001b[0m                         Traceback (most recent call last)",
      "\u001b[0;32m<ipython-input-11-84d866e94dac>\u001b[0m in \u001b[0;36m<module>\u001b[0;34m\u001b[0m\n\u001b[1;32m      8\u001b[0m         \u001b[0minput_tensor\u001b[0m \u001b[0;34m=\u001b[0m \u001b[0minput_tensor\u001b[0m\u001b[0;34m.\u001b[0m\u001b[0mastype\u001b[0m\u001b[0;34m(\u001b[0m\u001b[0mnp\u001b[0m\u001b[0;34m.\u001b[0m\u001b[0mfloat32\u001b[0m\u001b[0;34m)\u001b[0m \u001b[0;34m/\u001b[0m \u001b[0;36m128\u001b[0m \u001b[0;34m-\u001b[0m \u001b[0;36m1\u001b[0m\u001b[0;34m\u001b[0m\u001b[0;34m\u001b[0m\u001b[0m\n\u001b[1;32m      9\u001b[0m \u001b[0;34m\u001b[0m\u001b[0m\n\u001b[0;32m---> 10\u001b[0;31m         \u001b[0moutputs\u001b[0m \u001b[0;34m=\u001b[0m \u001b[0mG\u001b[0m\u001b[0;34m.\u001b[0m\u001b[0mexecute\u001b[0m\u001b[0;34m(\u001b[0m\u001b[0;34m[\u001b[0m\u001b[0minput_tensor\u001b[0m\u001b[0;34m]\u001b[0m\u001b[0;34m,\u001b[0m \u001b[0mquantize\u001b[0m\u001b[0;34m=\u001b[0m\u001b[0;32mTrue\u001b[0m\u001b[0;34m,\u001b[0m \u001b[0mdequantize\u001b[0m\u001b[0;34m=\u001b[0m\u001b[0;32mTrue\u001b[0m\u001b[0;34m)\u001b[0m\u001b[0;34m\u001b[0m\u001b[0;34m\u001b[0m\u001b[0m\n\u001b[0m\u001b[1;32m     11\u001b[0m         \u001b[0mpred_class\u001b[0m \u001b[0;34m=\u001b[0m \u001b[0mnp\u001b[0m\u001b[0;34m.\u001b[0m\u001b[0margmax\u001b[0m\u001b[0;34m(\u001b[0m\u001b[0moutputs\u001b[0m\u001b[0;34m[\u001b[0m\u001b[0;34m-\u001b[0m\u001b[0;36m1\u001b[0m\u001b[0;34m]\u001b[0m\u001b[0;34m[\u001b[0m\u001b[0;36m0\u001b[0m\u001b[0;34m]\u001b[0m\u001b[0;34m)\u001b[0m\u001b[0;34m\u001b[0m\u001b[0;34m\u001b[0m\u001b[0m\n\u001b[1;32m     12\u001b[0m         \u001b[0mconfidence\u001b[0m \u001b[0;34m=\u001b[0m \u001b[0moutputs\u001b[0m\u001b[0;34m[\u001b[0m\u001b[0;34m-\u001b[0m\u001b[0;36m1\u001b[0m\u001b[0;34m]\u001b[0m\u001b[0;34m[\u001b[0m\u001b[0;36m0\u001b[0m\u001b[0;34m]\u001b[0m\u001b[0;34m[\u001b[0m\u001b[0mpred_class\u001b[0m\u001b[0;34m]\u001b[0m\u001b[0;34m\u001b[0m\u001b[0;34m\u001b[0m\u001b[0m\n",
      "\u001b[0;32m~/GWT/gap_sdk/tools/nntool/nntool/graph/nngraph.py\u001b[0m in \u001b[0;36mexecute\u001b[0;34m(self, input_tensors, quantize, dequantize, output_fusion_tensors, check_quantization)\u001b[0m\n\u001b[1;32m    990\u001b[0m             \u001b[0minput_tensors\u001b[0m \u001b[0;34m=\u001b[0m \u001b[0;34m[\u001b[0m\u001b[0minput_tensors\u001b[0m\u001b[0;34m]\u001b[0m\u001b[0;34m\u001b[0m\u001b[0;34m\u001b[0m\u001b[0m\n\u001b[1;32m    991\u001b[0m         \u001b[0mexecuter\u001b[0m \u001b[0;34m=\u001b[0m \u001b[0mGraphExecuter\u001b[0m\u001b[0;34m(\u001b[0m\u001b[0mself\u001b[0m\u001b[0;34m,\u001b[0m \u001b[0mself\u001b[0m\u001b[0;34m.\u001b[0m\u001b[0mquantization\u001b[0m\u001b[0;34m)\u001b[0m\u001b[0;34m\u001b[0m\u001b[0;34m\u001b[0m\u001b[0m\n\u001b[0;32m--> 992\u001b[0;31m         \u001b[0;32mreturn\u001b[0m \u001b[0mexecuter\u001b[0m\u001b[0;34m.\u001b[0m\u001b[0mexecute\u001b[0m\u001b[0;34m(\u001b[0m\u001b[0minput_tensors\u001b[0m\u001b[0;34m,\u001b[0m \u001b[0mqmode\u001b[0m\u001b[0;34m=\u001b[0m\u001b[0mqmode\u001b[0m\u001b[0;34m,\u001b[0m \u001b[0mappend_fusion_output\u001b[0m\u001b[0;34m=\u001b[0m\u001b[0moutput_fusion_tensors\u001b[0m\u001b[0;34m)\u001b[0m\u001b[0;34m\u001b[0m\u001b[0;34m\u001b[0m\u001b[0m\n\u001b[0m\u001b[1;32m    993\u001b[0m \u001b[0;34m\u001b[0m\u001b[0m\n\u001b[1;32m    994\u001b[0m     def balance_filters(\n",
      "\u001b[0;32m~/GWT/gap_sdk/tools/nntool/nntool/execution/graph_executer.py\u001b[0m in \u001b[0;36mexecute\u001b[0;34m(self, in_tensors, step_idx_limit, only_yield_step, qmode, all_details, yield_fusions, append_fusion_output, silent)\u001b[0m\n\u001b[1;32m    339\u001b[0m                                                       silent=silent)]\n\u001b[1;32m    340\u001b[0m         \u001b[0;32melse\u001b[0m\u001b[0;34m:\u001b[0m\u001b[0;34m\u001b[0m\u001b[0;34m\u001b[0m\u001b[0m\n\u001b[0;32m--> 341\u001b[0;31m             iterator = [(output_tensors, details, fnode)\n\u001b[0m\u001b[1;32m    342\u001b[0m                         \u001b[0;32mfor\u001b[0m \u001b[0m_\u001b[0m\u001b[0;34m,\u001b[0m \u001b[0m_\u001b[0m\u001b[0;34m,\u001b[0m \u001b[0mfnode\u001b[0m\u001b[0;34m,\u001b[0m \u001b[0moutput_tensors\u001b[0m\u001b[0;34m,\u001b[0m \u001b[0mdetails\u001b[0m\u001b[0;34m\u001b[0m\u001b[0;34m\u001b[0m\u001b[0m\n\u001b[1;32m    343\u001b[0m                         in self.execute_iterator(in_tensors, step_idx_limit=step_idx_limit,\n",
      "\u001b[0;32m~/GWT/gap_sdk/tools/nntool/nntool/execution/graph_executer.py\u001b[0m in \u001b[0;36m<listcomp>\u001b[0;34m(.0)\u001b[0m\n\u001b[1;32m    339\u001b[0m                                                       silent=silent)]\n\u001b[1;32m    340\u001b[0m         \u001b[0;32melse\u001b[0m\u001b[0;34m:\u001b[0m\u001b[0;34m\u001b[0m\u001b[0;34m\u001b[0m\u001b[0m\n\u001b[0;32m--> 341\u001b[0;31m             iterator = [(output_tensors, details, fnode)\n\u001b[0m\u001b[1;32m    342\u001b[0m                         \u001b[0;32mfor\u001b[0m \u001b[0m_\u001b[0m\u001b[0;34m,\u001b[0m \u001b[0m_\u001b[0m\u001b[0;34m,\u001b[0m \u001b[0mfnode\u001b[0m\u001b[0;34m,\u001b[0m \u001b[0moutput_tensors\u001b[0m\u001b[0;34m,\u001b[0m \u001b[0mdetails\u001b[0m\u001b[0;34m\u001b[0m\u001b[0;34m\u001b[0m\u001b[0m\n\u001b[1;32m    343\u001b[0m                         in self.execute_iterator(in_tensors, step_idx_limit=step_idx_limit,\n",
      "\u001b[0;32m~/GWT/gap_sdk/tools/nntool/nntool/execution/graph_executer.py\u001b[0m in \u001b[0;36mexecute_iterator\u001b[0;34m(self, in_tensors, step_idx_limit, start_node, qmode, yield_fusions, yield_details, only_yield_step, record_inputs, silent, parent_node, parent_step_idx, saved_outputs, G)\u001b[0m\n\u001b[1;32m    214\u001b[0m             \u001b[0;32mif\u001b[0m \u001b[0misinstance\u001b[0m\u001b[0;34m(\u001b[0m\u001b[0mnode\u001b[0m\u001b[0;34m,\u001b[0m \u001b[0;34m(\u001b[0m\u001b[0mFilterFusionNodeBase\u001b[0m\u001b[0;34m,\u001b[0m \u001b[0mActivationFusionNodeBase\u001b[0m\u001b[0;34m,\u001b[0m \u001b[0mPaddedAddFusionNode\u001b[0m\u001b[0;34m,\u001b[0m \u001b[0mMatMulOpFusionNode\u001b[0m\u001b[0;34m)\u001b[0m\u001b[0;34m)\u001b[0m\u001b[0;34m:\u001b[0m\u001b[0;34m\u001b[0m\u001b[0;34m\u001b[0m\u001b[0m\n\u001b[1;32m    215\u001b[0m \u001b[0;34m\u001b[0m\u001b[0m\n\u001b[0;32m--> 216\u001b[0;31m                 for f_step_idx, f_pnode, f_node, f_output_tensors, f_details in self.execute_iterator(\n\u001b[0m\u001b[1;32m    217\u001b[0m                         \u001b[0moutput_tensors\u001b[0m\u001b[0;34m,\u001b[0m\u001b[0;34m\u001b[0m\u001b[0;34m\u001b[0m\u001b[0m\n\u001b[1;32m    218\u001b[0m                         \u001b[0mqmode\u001b[0m\u001b[0;34m=\u001b[0m\u001b[0mqmode\u001b[0m\u001b[0;34m,\u001b[0m\u001b[0;34m\u001b[0m\u001b[0;34m\u001b[0m\u001b[0m\n",
      "\u001b[0;32m~/GWT/gap_sdk/tools/nntool/nntool/execution/graph_executer.py\u001b[0m in \u001b[0;36mexecute_iterator\u001b[0;34m(self, in_tensors, step_idx_limit, start_node, qmode, yield_fusions, yield_details, only_yield_step, record_inputs, silent, parent_node, parent_step_idx, saved_outputs, G)\u001b[0m\n\u001b[1;32m    237\u001b[0m                     node, in_tensors, qrec, details)\n\u001b[1;32m    238\u001b[0m             \u001b[0;32melse\u001b[0m\u001b[0;34m:\u001b[0m\u001b[0;34m\u001b[0m\u001b[0;34m\u001b[0m\u001b[0m\n\u001b[0;32m--> 239\u001b[0;31m                 output_tensors = KernelExecuter.execute(\n\u001b[0m\u001b[1;32m    240\u001b[0m                     node, output_tensors, qrec, details)\n\u001b[1;32m    241\u001b[0m \u001b[0;34m\u001b[0m\u001b[0m\n",
      "\u001b[0;32m~/GWT/gap_sdk/tools/nntool/nntool/execution/kernels/kernel_executer.py\u001b[0m in \u001b[0;36mexecute\u001b[0;34m(cls, params, input_tensors, qrec, details)\u001b[0m\n\u001b[1;32m     64\u001b[0m                 f\"no handlers found for {params.__class__.__name__} quantization {qrec.ktype}\")\n\u001b[1;32m     65\u001b[0m \u001b[0;34m\u001b[0m\u001b[0m\n\u001b[0;32m---> 66\u001b[0;31m         output_tensors = handler.execute(params, input_tensors,\n\u001b[0m\u001b[1;32m     67\u001b[0m                                          \u001b[0mqrec\u001b[0m\u001b[0;34m,\u001b[0m \u001b[0mdetails\u001b[0m\u001b[0;34m=\u001b[0m\u001b[0mdetails\u001b[0m\u001b[0;34m,\u001b[0m\u001b[0;34m\u001b[0m\u001b[0;34m\u001b[0m\u001b[0m\n\u001b[1;32m     68\u001b[0m                                          qname=qrec.ktype)\n",
      "\u001b[0;32m~/GWT/gap_sdk/tools/nntool/nntool/execution/kernels/quant/fast_conv.py\u001b[0m in \u001b[0;36mexecute\u001b[0;34m(cls, params, in_tensors, qrec, **kwargs)\u001b[0m\n\u001b[1;32m    242\u001b[0m                     \u001b[0miinfo\u001b[0m \u001b[0;34m=\u001b[0m \u001b[0mnp\u001b[0m\u001b[0;34m.\u001b[0m\u001b[0miinfo\u001b[0m\u001b[0;34m(\u001b[0m\u001b[0mcalc_dtype\u001b[0m\u001b[0;34m)\u001b[0m\u001b[0;34m\u001b[0m\u001b[0;34m\u001b[0m\u001b[0m\n\u001b[1;32m    243\u001b[0m                     \u001b[0mmin_acc\u001b[0m\u001b[0;34m,\u001b[0m \u001b[0mmax_acc\u001b[0m \u001b[0;34m=\u001b[0m \u001b[0miinfo\u001b[0m\u001b[0;34m.\u001b[0m\u001b[0mmax\u001b[0m\u001b[0;34m,\u001b[0m \u001b[0miinfo\u001b[0m\u001b[0;34m.\u001b[0m\u001b[0mmin\u001b[0m\u001b[0;34m\u001b[0m\u001b[0;34m\u001b[0m\u001b[0m\n\u001b[0;32m--> 244\u001b[0;31m                 min_acc, max_acc = do_conv(\n\u001b[0m\u001b[1;32m    245\u001b[0m                     \u001b[0mmin_acc\u001b[0m\u001b[0;34m,\u001b[0m \u001b[0mmax_acc\u001b[0m\u001b[0;34m,\u001b[0m \u001b[0min_tensor\u001b[0m\u001b[0;34m,\u001b[0m \u001b[0mweights\u001b[0m\u001b[0;34m,\u001b[0m\u001b[0;34m\u001b[0m\u001b[0;34m\u001b[0m\u001b[0m\n\u001b[1;32m    246\u001b[0m                     \u001b[0mfilt_w\u001b[0m\u001b[0;34m,\u001b[0m \u001b[0mfilt_h\u001b[0m\u001b[0;34m,\u001b[0m \u001b[0mfilt_dil_h\u001b[0m\u001b[0;34m,\u001b[0m \u001b[0mfilt_dil_w\u001b[0m\u001b[0;34m,\u001b[0m\u001b[0;34m\u001b[0m\u001b[0;34m\u001b[0m\u001b[0m\n",
      "\u001b[0;32m~/GWT/gap_sdk/tools/nntool/nntool/execution/kernels/quant/fast_conv.py\u001b[0m in \u001b[0;36mdo_conv\u001b[0;34m(min_acc, max_acc, in_tensor, weights, filt_w, filt_h, filt_dil_h, filt_dil_w, filt_str_h, filt_str_w, out_c, in_c_per_group, out_c_per_group, in_c_off, out_c_cnt, result, const_h, const_w, calc_dtype)\u001b[0m\n\u001b[1;32m     85\u001b[0m             \u001b[0;32mfor\u001b[0m \u001b[0mcur_w\u001b[0m \u001b[0;32min\u001b[0m \u001b[0mrange\u001b[0m\u001b[0;34m(\u001b[0m\u001b[0mfilt_w\u001b[0m\u001b[0;34m)\u001b[0m\u001b[0;34m:\u001b[0m\u001b[0;34m\u001b[0m\u001b[0;34m\u001b[0m\u001b[0m\n\u001b[1;32m     86\u001b[0m                 \u001b[0;31m# selects all elements that the filter element needs to multiply\u001b[0m\u001b[0;34m\u001b[0m\u001b[0;34m\u001b[0m\u001b[0;34m\u001b[0m\u001b[0m\n\u001b[0;32m---> 87\u001b[0;31m                 slabhw = np.multiply(in_tensor[cur_h * filt_dil_h:\n\u001b[0m\u001b[1;32m     88\u001b[0m                                                \u001b[0mconst_h\u001b[0m \u001b[0;34m+\u001b[0m \u001b[0mcur_h\u001b[0m \u001b[0;34m*\u001b[0m \u001b[0mfilt_dil_h\u001b[0m\u001b[0;34m:\u001b[0m\u001b[0;34m\u001b[0m\u001b[0;34m\u001b[0m\u001b[0m\n\u001b[1;32m     89\u001b[0m                                                \u001b[0mfilt_str_h\u001b[0m\u001b[0;34m,\u001b[0m\u001b[0;34m\u001b[0m\u001b[0;34m\u001b[0m\u001b[0m\n",
      "\u001b[0;31mKeyboardInterrupt\u001b[0m: "
     ]
    }
   ],
   "source": [
    "dataset_files = glob.glob(\"samples/*\")\n",
    "for file in dataset_files:\n",
    "\tprint(file)\n",
    "\timg = Image.open(file)\n",
    "\t# Transpose HWC to CHW\n",
    "\tinput_tensor = np.array(img).transpose((2, 0, 1))\n",
    "\t# Even in quantized mode nntool requires float data exactly as you trained the model -> [-1.0: 1.0]\n",
    "\tinput_tensor = input_tensor.astype(np.float32) / 128 - 1\n",
    "\n",
    "\toutputs = G.execute([input_tensor], quantize=True, dequantize=True)\n",
    "\tpred_class = np.argmax(outputs[-1][0])\n",
    "\tconfidence = outputs[-1][0][pred_class]\n",
    "\tprint(f\"Predicted Class: {pred_class} with confidence: {confidence}\")\n"
   ]
  },
  {
   "cell_type": "code",
   "execution_count": null,
   "metadata": {},
   "outputs": [],
   "source": []
  }
 ],
 "metadata": {
  "kernelspec": {
   "display_name": "Python 3",
   "language": "python",
   "name": "python3"
  },
  "language_info": {
   "codemirror_mode": {
    "name": "ipython",
    "version": 3
   },
   "file_extension": ".py",
   "mimetype": "text/x-python",
   "name": "python",
   "nbconvert_exporter": "python",
   "pygments_lexer": "ipython3",
   "version": "3.8.5"
  }
 },
 "nbformat": 4,
 "nbformat_minor": 4
}
